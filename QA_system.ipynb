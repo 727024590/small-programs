{
 "cells": [
  {
   "cell_type": "markdown",
   "metadata": {
    "collapsed": true
   },
   "source": [
    "## 搭建一个简单的问答系统"
   ]
  },
  {
   "cell_type": "markdown",
   "metadata": {},
   "source": [
    "本次项目的目标是搭建一个基于检索式的简单的问答系统。 \n",
    "\n",
    "知识点：\n",
    "1. 字符串操作   2. 文本预处理技术（词过滤，标准化）   3. 文本的表示（tf-idf, word2vec)  4. 文本相似度计算  5. 文本高效检索\n",
    "\n",
    "此项目需要的数据：\n",
    "1. [train-v2.0.json](https://github.com/SixGreen/small-programs/blob/master/data/train-v2.0.json): 这个数据包含了问题和答案的pair， 但是以JSON格式存在，需要编写parser来提取出里面的问题和答案。 \n",
    "2. [glove.6B](https://nlp.stanford.edu/projects/glove/): 使用d=100的词向量\n",
    "\n",
    "**检索式的问答系统**\n",
    "\n",
    "问答系统所需要的数据已经提供，对于每一个问题都可以找得到相应的答案，所以可以理解为每一个样本数据是 <问题、答案>。 那系统的核心是当用户输入一个问题的时候，首先要找到跟这个问题最相近的已经存储在库里的问题，然后直接返回相应的答案即可。 举一个简单的例子：\n",
    "\n",
    "假设我们的库里面已有存在以下几个<问题,答案>：\n",
    "<\"人工智能和机器学习的关系什么？\", \"其实机器学习是人工智能的一个范畴，很多人工智能的应用要基于机器学习的技术\">\n",
    "<\"人工智能最核心的语言是什么？\"， \"Python\">\n",
    ".....\n",
    "\n",
    "假设一个用户往系统中输入了问题 “机器学习与人工智能有什么关系？”， 那这时候系统先去匹配最相近的“已经存在库里的”问题。 那在这里很显然是 “机器学习与人工智能有什么关系”和“人工智能和机器学习的关系什么”是最相近的。 所以当我们定位到这个问题之后，直接返回它的答案 “其实机器学习是人工智能的一个范畴，很多人工智能的应用要基于机器学习的技术”就可以了。所以这里的核心问题可以归结为计算两个问句（query）之间的相似度。\n",
    "\n",
    "在本次项目中，你会频繁地使用到[sklearn](http://scikit-learn.org/stable/install.html)这个机器学习库，sklearn包含了各类机器学习算法和数据处理工具，包括本项目需要使用的词袋模型。"
   ]
  },
  {
   "cell_type": "markdown",
   "metadata": {},
   "source": [
    "### 读取文件，并把内容分别写到两个list里（一个list对应问题集，另一个list对应答案集）"
   ]
  },
  {
   "cell_type": "code",
   "execution_count": 77,
   "metadata": {},
   "outputs": [],
   "source": [
    "import json\n",
    "\n",
    "def read_corpus(filepath):\n",
    "    \"\"\"\n",
    "    读取给定的语料库，并把问题列表和答案列表分别写入到 qlist, alist 里面。 在此过程中，不用对字符换做任何的处理（这部分要在后面处理）\n",
    "    qlist = [\"问题1\"， “问题2”， “问题3” ....]\n",
    "    alist = [\"答案1\", \"答案2\", \"答案3\" ....]\n",
    "    务必要让每一个问题和答案对应起来（下标位置一致）\n",
    "    \"\"\"\n",
    "    with open(filepath) as f:\n",
    "        data = json.load(f)\n",
    "        \n",
    "    qlist = list()\n",
    "    alist = list()\n",
    "    for item in data['data']:\n",
    "        for para in item['paragraphs']:\n",
    "            for qa in para['qas']:\n",
    "                qlist.append(qa['question'])\n",
    "                # 部分answers的list为空，所以会引发IndexError\n",
    "                try:\n",
    "                    alist.append(qa['answers'][0]['text'])\n",
    "                except IndexError:\n",
    "                    qlist.pop()\n",
    "        \n",
    "    assert len(qlist) == len(alist)  # 确保长度一样\n",
    "    return qlist, alist"
   ]
  },
  {
   "cell_type": "code",
   "execution_count": 79,
   "metadata": {},
   "outputs": [
    {
     "name": "stdout",
     "output_type": "stream",
     "text": [
      "问答数量：86821\n",
      "['With what Belorussian city does Kathmandu have a relationship?', 'In what year did Kathmandu create its initial international relationship?', 'What is KMC an initialism of?']\n",
      "['Minsk', '1975', 'Kathmandu Metropolitan City']\n"
     ]
    }
   ],
   "source": [
    "# 测试\n",
    "qlist, alist = read_corpus('./data/train-v2.0.json')\n",
    "print(\"问答数量：%d\" % len(qtmp))\n",
    "print(qlist[-3:])\n",
    "print(alist[-3:])"
   ]
  },
  {
   "cell_type": "markdown",
   "metadata": {},
   "source": [
    "### 理解数据（可视化分析/统计信息）\n",
    "对数据的理解是任何AI工作的第一步，需要充分对手上的数据有个更直观的理解。 "
   ]
  },
  {
   "cell_type": "code",
   "execution_count": 80,
   "metadata": {
    "scrolled": false
   },
   "outputs": [
    {
     "data": {
      "image/png": "[encoded data removed]",
      "text/plain": [
       "<Figure size 432x288 with 4 Axes>"
      ]
     },
     "metadata": {
      "needs_background": "light"
     },
     "output_type": "display_data"
    },
    {
     "name": "stdout",
     "output_type": "stream",
     "text": [
      "词数(type)：51841\n",
      "[['the', 60960], ['What', 36995], ['of', 33987], ['in', 21785], ['to', 18443], ['was', 17065], ['is', 16198], ['did', 15634], ['what', 13219], ['a', 10753], ['How', 8023], ['Who', 8009], ['and', 7229], ['for', 7200], ['many', 5497], ['are', 5455], ['When', 5367], ['that', 4436], ['were', 4428], ['does', 4331]]\n"
     ]
    }
   ],
   "source": [
    "# TODO: 统计一下qlist中每个单词出现的频率，并把这些频率排一下序，然后画成plot. 比如总共出现了总共7个不同单词，而且每个单词出现的频率为 4, 5,10,2, 1, 1,1\n",
    "#       把频率排序之后就可以得到(从大到小) 10, 5, 4, 2, 1, 1, 1. 然后把这7个数plot即可（从大到小）\n",
    "#       需要使用matplotlib里的plot函数。y轴是词频\n",
    "from collections import Counter\n",
    "import matplotlib.pyplot as plt\n",
    "\n",
    "qlist, alist = read_corpus('./data/train-v2.0.json')\n",
    "\n",
    "words_cnt = Counter()\n",
    "for text in qlist:\n",
    "    words_cnt.update(text.strip(' .!?').split(' '))\n",
    "\n",
    "value_sort = sorted(words_cnt.values(), reverse=True)\n",
    "plt.subplot(221)\n",
    "plt.plot(value_sort)\n",
    "plt.subplot(222)\n",
    "plt.plot(value_sort[:2000])\n",
    "plt.subplot(223)\n",
    "plt.plot(value_sort[:200])\n",
    "plt.subplot(224)\n",
    "plt.plot(value_sort[:20])\n",
    "plt.show()\n",
    "\n",
    "# 显示词频最高前10词，因为只取高频值，所以value转换时重合的概率较小，即时重合也没有太大影响\n",
    "inverse = dict(zip(words_cnt.values(), words_cnt.keys()))\n",
    "print(\"词数(type)：%d\" % len(words_cnt))\n",
    "print([[inverse[v], v] for v in value_sort[:20]])"
   ]
  },
  {
   "cell_type": "markdown",
   "metadata": {
    "collapsed": true
   },
   "source": [
    "本来是想契合下zipf定律的，但是不是非常理想，只能看出形状来，主要原因应该是问答趋于同质化。另外明显看到虚词出现频率很高，所以可能需要去停用词。"
   ]
  },
  {
   "cell_type": "markdown",
   "metadata": {},
   "source": [
    "### 文本预处理\n",
    "在这里我们面对的是英文文本，所以任何对英文适合的技术都可以考虑进来。中文和英文类似，多了分词处理但不需要stemming。"
   ]
  },
  {
   "cell_type": "code",
   "execution_count": 83,
   "metadata": {},
   "outputs": [],
   "source": [
    "# TODO: 对于qlist做文本预处理操作（不要对alist进行操作，因为答案直接调用即可，我们只匹配问题）。 可以考虑以下几种操作：\n",
    "#       1. 停用词过滤 （去网上搜一下 \"english stop words list\"，会出现很多包含停用词库的网页，或者直接使用NLTK自带的）   \n",
    "#       2. 转换成lower_case： 这是一个基本的操作\n",
    "#       3. 去掉一些无用的符号： 比如连续的感叹号！！！， 或者一些奇怪的单词。\n",
    "#       4. 去掉出现频率很低的词：比如出现次数少于10,20....\n",
    "#       5. 对于数字的处理： 分词完只有有些单词可能就是数字比如44，415，把所有这些数字都看成是一个单词，这个新的单词我们可以定义为 \"#number\"\n",
    "#       6. stemming（利用porter stemming): 因为是英文，所以stemming也是可以做的工作\n",
    "#       7. 也可以做下词形还原，但是在这个任务里个人感觉不是很有必要\n",
    "#       请注意，不一定要按照上面的顺序来处理\n",
    "from nltk.corpus import stopwords\n",
    "from nltk.stem import PorterStemmer\n",
    "from nltk.tokenize import word_tokenize\n",
    "import math\n",
    "\n",
    "# 加载nltk自带停用词，该停用词表个人感觉一般，具体到细分领域可能还是需要自己归纳\n",
    "sw = set(stopwords.words('english'))\n",
    "# 个人感觉对于一个问题而言这些词不应该删去\n",
    "sw -= {'who', 'when', 'why', 'where', 'how'}\n",
    "# 这里只是随便去了下符号\n",
    "sw.update(['\\'s', '``', '\\'\\''])\n",
    "ps = PorterStemmer()\n",
    "\n",
    "def text_preprocessing(text):\n",
    "    \"\"\"\n",
    "    对单条文本进行处理。\n",
    "    text: str类型\n",
    "    \n",
    "    return: 分词后的list\n",
    "    \"\"\"\n",
    "    \n",
    "    seg = list()\n",
    "    # 直接用nltk分词\n",
    "    for word in word_tokenize(text):\n",
    "        # 小写化、词干提取\n",
    "        word = ps.stem(word.lower())\n",
    "        # 数值归一\n",
    "        word = '#number' if word.isdigit() else word\n",
    "        # 去停用词\n",
    "        if len(word)>1 and word not in sw:\n",
    "            seg.append(word)\n",
    "    \n",
    "    return seg\n",
    "\n",
    "words_cnt = Counter()\n",
    "qlist_seg = list()\n",
    "for text in qlist:\n",
    "    seg = text_preprocessing(text)\n",
    "    qlist_seg.append(seg)\n",
    "    words_cnt.update(seg)\n",
    "    \n",
    "value_sort = sorted(words_cnt.values(), reverse=True)\n",
    "# 根据Zipf定律计算99%覆盖率下的过滤词频，解释见程序下边\n",
    "min_tf = value_sort[int(math.exp(0.99 * math.log(len(words_cnt))))]\n",
    "for cur in range(len(qlist_seg)):\n",
    "    qlist_seg[cur] = [word for word in qlist_seg[cur] if words_cnt[word] > min_tf]"
   ]
  },
  {
   "cell_type": "markdown",
   "metadata": {},
   "source": [
    "词频的过滤阈值是按照Zipf定律来算的，没见别人这么用过，自己感觉还算合理。\n",
    "\n",
    "Zipf's law一个实验定律，按照从最常见到非常见排列，第二常见的频率是最常见频率的出现次数的1/2，第三常见的频率是最常见的频率的1/3，第n常见的频率是最常见频率出现次数的1/n。\n",
    "\n",
    "假设我们文本的词频符合该定律，那么对1/n进行积分得到ln(n)，为了使99%的文本得到覆盖则需ln(x)>0.99\\*ln(n)，n是词type数，x是词频从高到底排列时的阈值分割点，最后x=e^(0.99\\*ln(n))。"
   ]
  },
  {
   "cell_type": "code",
   "execution_count": 84,
   "metadata": {},
   "outputs": [
    {
     "name": "stdout",
     "output_type": "stream",
     "text": [
      "[['when', 'beyonc', 'start', 'becom', 'popular'], ['area', 'beyonc', 'compet', 'when', 'wa', 'grow'], ['when', 'beyonc', 'leav', 'destini', 'child', 'becom', 'solo', 'singer'], ['citi', 'state', 'beyonc', 'grow'], ['decad', 'beyonc', 'becom', 'famou'], ['group', 'wa', 'lead', 'singer'], ['album', 'made', 'worldwid', 'known', 'artist'], ['who', 'manag', 'destini', 'child', 'group'], ['when', 'beyoncé', 'rise', 'fame'], ['role', 'beyoncé', 'destini', 'child']]\n"
     ]
    }
   ],
   "source": [
    "# 测试\n",
    "print(qlist_seg[:10])"
   ]
  },
  {
   "cell_type": "markdown",
   "metadata": {},
   "source": [
    "### 文本表示\n",
    "做完关键的预处理过程之后，就需要把每一个文本转换成向量。"
   ]
  },
  {
   "cell_type": "code",
   "execution_count": 85,
   "metadata": {},
   "outputs": [],
   "source": [
    "# TODO: 把qlist中的每一个问题字符串转换成tf-idf向量, 转换之后的结果存储在X矩阵里。 X的大小是： N* D的矩阵。 这里N是问题的个数（样本个数），\n",
    "#       D是字典库的大小。 \n",
    "from sklearn.feature_extraction.text import TfidfVectorizer\n",
    "\n",
    "vectorizer = TfidfVectorizer() # 定义一个tf-idf的vectorizer\n",
    "\n",
    "X = vectorizer.fit_transform([' '.join(seg) for seg in qlist_seg])  # 结果存放在X矩阵"
   ]
  },
  {
   "cell_type": "code",
   "execution_count": 86,
   "metadata": {},
   "outputs": [
    {
     "name": "stdout",
     "output_type": "stream",
     "text": [
      "(86821, 14548)\n",
      "input sparsity ratio: 0.9995937135512636\n"
     ]
    }
   ],
   "source": [
    "# 测试\n",
    "def sparsity_ratio(X):\n",
    "    return 1.0 - X.nnz / float(X.shape[0] * X.shape[1])\n",
    "\n",
    "print(X.shape)\n",
    "print(\"input sparsity ratio:\", sparsity_ratio(X))  # 打印出稀疏度(sparsity)"
   ]
  },
  {
   "cell_type": "markdown",
   "metadata": {},
   "source": [
    "### 对于用户的输入问题，找到相似度最高的TOP5问题，并把5个潜在的答案做返回"
   ]
  },
  {
   "cell_type": "code",
   "execution_count": 89,
   "metadata": {},
   "outputs": [],
   "source": [
    "from queue import PriorityQueue\n",
    "\n",
    "def top5results(input_q):\n",
    "    \"\"\"\n",
    "    给定用户输入的问题 input_q, 返回最有可能的TOP 5问题。这里面需要做到以下几点：\n",
    "    1. 对于用户的输入 input_q 首先做一系列的预处理，然后再转换成tf-idf向量（利用上面的vectorizer)\n",
    "    2. 计算跟每个库里的问题之间的相似度\n",
    "    3. 找出相似度最高的top5问题的答案\n",
    "    \"\"\"\n",
    "    q_vector = vectorizer.transform([' '.join(text_preprocessing(input_q))])\n",
    "    # 计算余弦相似度，tfidf默认使用l2范数；矩阵乘法\n",
    "    sim = (X * q_vector.T).toarray()\n",
    "\n",
    "    # 使用优先队列找出top5\n",
    "    pq = PriorityQueue()\n",
    "    for cur in range(sim.shape[0]):\n",
    "        pq.put((sim[cur][0], cur))\n",
    "        if len(pq.queue) > 5:\n",
    "            pq.get()\n",
    "    \n",
    "    pq_rank = sorted(pq.queue, reverse=True, key=lambda x:x[0])\n",
    "    # print([x[0] for x in pq_rank])\n",
    "    top_idxs = [x[1] for x in pq_rank]  # top_idxs存放相似度最高的（存在qlist里的）问题的下表 \n",
    "    \n",
    "    return [alist[i] for i in top_idxs]  # 返回相似度最高的问题对应的答案，作为TOP5答案    "
   ]
  },
  {
   "cell_type": "code",
   "execution_count": 90,
   "metadata": {},
   "outputs": [
    {
     "name": "stdout",
     "output_type": "stream",
     "text": [
      "[0.9999999999999999, 0.9999999999999999, 0.6058098700501424, 0.5955903794475756, 0.5604486086527194]\n",
      "['Chengdu Shuangliu International Airport', 'Chengdu Shuangliu International Airport', 'aerodrome with facilities for flights to take off and land', 'newspapers', 'various gaming sites']\n",
      "[0.7797154765957257, 0.7103241311289762, 0.7038747251719334, 0.6245909883904857, 0.5811739588019266]\n",
      "['Plymouth City Airport', 'aerodrome with facilities for flights to take off and land', 'related', 'After the reunification', 'Nanjing Dajiaochang Airport']\n",
      "[0.9999999999999998, 0.7852110277213404, 0.49331031138548864, 0.4162177525363464, 0.33229596712940707]\n",
      "['Myanmar', 'foreign aid', '10 days', 'the British government', 'The latent heat of water condensation amplifies convection']\n",
      "[0.5947629389746683, 0.39360612204759465, 0.35791876809775003, 0.31237667954304615, 0.2999699083743183]\n",
      "['Myanmar', 'Isabel', 'foreign aid', 'Soviet Union and China', '10 days']\n"
     ]
    }
   ],
   "source": [
    "# 测试\n",
    "print(top5results(\"Which airport was shut down?\"))    # 在问题库中存在，经过对比，返回的首结果正确\n",
    "print(top5results(\"Which airport is closed?\"))\n",
    "print(top5results(\"What government blocked aid after Cyclone Nargis?\"))    # 在问题库中存在，经过对比，返回的首结果正确\n",
    "print(top5results(\"Which government stopped aid after Hurricane Nargis?\"))"
   ]
  },
  {
   "cell_type": "markdown",
   "metadata": {},
   "source": [
    "可以明显发现，tfidf方法是很难处理语义相似的问题的。"
   ]
  },
  {
   "cell_type": "markdown",
   "metadata": {},
   "source": [
    "### 利用倒排表的优化。 \n",
    "上面的算法，一个最大的缺点是每一个用户问题都需要跟库里的所有的问题都计算相似度。假设我们库里的问题非常多，这将是效率非常低的方法。 这里面一个方案是通过倒排表的方式，先从库里面找到跟当前的输入类似的问题描述。然后针对于这些candidates问题再做余弦相似度的计算。这样会节省大量的时间。"
   ]
  },
  {
   "cell_type": "code",
   "execution_count": 92,
   "metadata": {},
   "outputs": [],
   "source": [
    "# TODO: 基于倒排表的优化。在这里，我们可以定义一个类似于hash_map, 比如 inverted_index = {}， 然后存放包含每一个关键词的文档出现在了什么位置，\n",
    "#       也就是，通过关键词的搜索首先来判断包含这些关键词的文档（比如出现至少一个），然后对于candidates问题做相似度比较。\n",
    "from collections import defaultdict\n",
    "\n",
    "inverted_idx = defaultdict(set)  # 制定一个一个简单的倒排表\n",
    "for cur in range(len(qlist_seg)):\n",
    "    for word in qlist_seg[cur]:\n",
    "        inverted_idx[word].add(cur)\n",
    "    \n",
    "def top5results_invidx(input_q):\n",
    "    \"\"\"\n",
    "    给定用户输入的问题 input_q, 返回最有可能的TOP 5问题。这里面需要做到以下几点：\n",
    "    1. 利用倒排表来筛选 candidate\n",
    "    2. 对于用户的输入 input_q 首先做一系列的预处理，然后再转换成tf-idf向量（利用上面的vectorizer)\n",
    "    3. 计算跟每个库里的问题之间的相似度\n",
    "    4. 找出相似度最高的top5问题的答案\n",
    "    \"\"\"\n",
    "    seg = text_preprocessing(input_q)\n",
    "    candidates = set()\n",
    "    for word in seg:\n",
    "        # 取所有包含任意一个词的文档的并集\n",
    "        candidates = candidates | inverted_idx[word]\n",
    "    candidates = list(candidates)\n",
    "    \n",
    "    q_vector = vectorizer.transform([' '.join(seg)])\n",
    "    # 计算余弦相似度，tfidf用的l2范数，所以分母为1；矩阵乘法\n",
    "    sim = (X[candidates] * q_vector.T).toarray()\n",
    "\n",
    "    # 使用优先队列找出top5\n",
    "    pq = PriorityQueue()\n",
    "    for cur in range(sim.shape[0]):\n",
    "        pq.put((sim[cur][0], candidates[cur]))\n",
    "        if len(pq.queue) > 5:\n",
    "            pq.get()\n",
    "    \n",
    "    pq_rank = sorted(pq.queue, reverse=True, key=lambda x:x[0])\n",
    "    print([x[0] for x in pq_rank])\n",
    "    top_idxs = [x[1] for x in pq_rank]  # top_idxs存放相似度最高的（存在qlist里的）问题的下表 \n",
    "    \n",
    "    return [alist[i] for i in top_idxs]  # 返回相似度最高的问题对应的答案，作为TOP5答案  "
   ]
  },
  {
   "cell_type": "code",
   "execution_count": 93,
   "metadata": {},
   "outputs": [
    {
     "name": "stdout",
     "output_type": "stream",
     "text": [
      "[1.0, 1.0, 0.6058098700501424, 0.5955903794475756, 0.5604486086527194]\n",
      "['Chengdu Shuangliu International Airport', 'Chengdu Shuangliu International Airport', 'aerodrome with facilities for flights to take off and land', 'newspapers', 'various gaming sites']\n",
      "[0.7797154765957257, 0.7103241311289762, 0.7038747251719334, 0.6245909883904857, 0.5811739588019266]\n",
      "['Plymouth City Airport', 'aerodrome with facilities for flights to take off and land', 'related', 'After the reunification', 'Nanjing Dajiaochang Airport']\n",
      "[0.9999999999999998, 0.7852110277213404, 0.49331031138548864, 0.4162177525363464, 0.33229596712940707]\n",
      "['Myanmar', 'foreign aid', '10 days', 'the British government', 'The latent heat of water condensation amplifies convection']\n",
      "[0.5947629389746683, 0.39360612204759465, 0.35791876809775003, 0.31237667954304615, 0.2999699083743183]\n",
      "['Myanmar', 'Isabel', 'foreign aid', 'Soviet Union and China', '10 days']\n"
     ]
    }
   ],
   "source": [
    "# 测试\n",
    "print(top5results_invidx(\"Which airport was shut down?\"))    # 在问题库中存在，经过对比，返回的首结果正确\n",
    "print(top5results_invidx(\"Which airport is closed?\"))\n",
    "print(top5results_invidx(\"What government blocked aid after Cyclone Nargis?\"))    # 在问题库中存在，经过对比，返回的首结果正确\n",
    "print(top5results_invidx(\"Which government stopped aid after Hurricane Nargis?\"))"
   ]
  },
  {
   "cell_type": "markdown",
   "metadata": {},
   "source": [
    "### 基于词向量的文本表示\n",
    "上面所用到的方法论是基于词袋模型（bag-of-words model）。这样的方法论有两个主要的问题：1. 无法计算词语之间的相似度  2. 稀疏度很高。 接下来我们采用词向量作为文本的表示，下载训练好的d=100（100维）的词向量[glove.6B.zip](https://nlp.stanford.edu/projects/glove/)。\n"
   ]
  },
  {
   "cell_type": "code",
   "execution_count": 96,
   "metadata": {},
   "outputs": [
    {
     "name": "stderr",
     "output_type": "stream",
     "text": [
      "/home/six/anaconda3/lib/python3.7/site-packages/ipykernel_launcher.py:23: DeprecationWarning: Call to deprecated `wv` (Attribute will be removed in 4.0.0, use self instead).\n",
      "/home/six/anaconda3/lib/python3.7/site-packages/ipykernel_launcher.py:27: RuntimeWarning: invalid value encountered in true_divide\n"
     ]
    }
   ],
   "source": [
    "# TODO\n",
    "# 读取每一个单词的嵌入。\n",
    "# 句子向量 = 词向量的平均（出现在问句里的）， 如果给定的词没有出现在词典库里，则忽略掉这个词。\n",
    "from gensim.models import KeyedVectors\n",
    "from gensim.scripts.glove2word2vec import glove2word2vec\n",
    "import numpy as np\n",
    "\n",
    "# 将GloVe转为word2vec\n",
    "_ = glove2word2vec('./data/glove.6B.100d.txt', './data/glove2word2vec.6B.100d.txt')\n",
    "model = KeyedVectors.load_word2vec_format('./data/glove2word2vec.6B.100d.txt')\n",
    "\n",
    "def docvec_get(seg):\n",
    "    \"\"\"\n",
    "    将分词数据转为句向量。\n",
    "    seg: 分词后的数据\n",
    "    \n",
    "    return: 句向量\n",
    "    \"\"\"\n",
    "    vector = np.zeros((1, 100))\n",
    "    size = len(seg)\n",
    "    for word in seg:\n",
    "        try:\n",
    "            vector += model.wv[word]\n",
    "        except KeyError:\n",
    "            size -= 1\n",
    "    \n",
    "    return vector / size\n",
    "\n",
    "X = np.zeros((len(qlist_seg), 100))\n",
    "for cur in range(X.shape[0]):\n",
    "    X[cur] = docvec_get(qlist_seg[cur])\n",
    "\n",
    "# 计算X每一行的l2范数\n",
    "Xnorm2 = np.linalg.norm(X, axis=1, keepdims=True)\n",
    "X = X / Xnorm2\n",
    "\n",
    "def top5results_emb(input_q):\n",
    "    \"\"\"\n",
    "    给定用户输入的问题 input_q, 返回最有可能的TOP 5问题。这里面需要做到以下几点：\n",
    "    1. 利用倒排表来筛选 candidate\n",
    "    2. 对于用户的输入 input_q，转换成句子向量\n",
    "    3. 计算跟每个库里的问题之间的相似度\n",
    "    4. 找出相似度最高的top5问题的答案\n",
    "    \"\"\"\n",
    "    # 用词向量后用词形还原更合理，此处就不做变更了\n",
    "    seg = text_preprocessing(input_q)\n",
    "    # 直接用上边建好的倒排表\n",
    "    candidates = set()\n",
    "    for word in seg:\n",
    "        # 取所有包含任意一个词的文档的并集\n",
    "        candidates = candidates | inverted_idx[word]\n",
    "    candidates = list(candidates)\n",
    "    \n",
    "    q_vector = docvec_get(seg)\n",
    "    # 计算问题向量的l2范数\n",
    "    qnorm2 = np.linalg.norm(q_vector, axis=1, keepdims=True)\n",
    "    q_vector = q_vector / qnorm2\n",
    "    # 计算余弦相似度，前边已经l2规范化过，所以直接相乘\n",
    "    sim = (X[candidates] @ q_vector.T)\n",
    "\n",
    "    # 使用优先队列找出top5\n",
    "    pq = PriorityQueue()\n",
    "    for cur in range(sim.shape[0]):\n",
    "        pq.put((sim[cur][0], candidates[cur]))\n",
    "        if len(pq.queue) > 5:\n",
    "            pq.get()\n",
    "    \n",
    "    pq_rank = sorted(pq.queue, reverse=True, key=lambda x:x[0])\n",
    "    print([x[0] for x in pq_rank])\n",
    "    top_idxs = [x[1] for x in pq_rank]  # top_idxs存放相似度最高的（存在qlist里的）问题的下表 \n",
    "    \n",
    "    return [alist[i] for i in top_idxs]  # 返回相似度最高的问题对应的答案，作为TOP5答案  "
   ]
  },
  {
   "cell_type": "code",
   "execution_count": 98,
   "metadata": {},
   "outputs": [
    {
     "name": "stdout",
     "output_type": "stream",
     "text": [
      "[1.0, 1.0, 0.8875869259222657, 0.8826214612899687, 0.8355808887273302]\n",
      "['Chengdu Shuangliu International Airport', 'Chengdu Shuangliu International Airport', 'Terminal C', 'Nanjing Dajiaochang Airport', '1967']\n",
      "[0.9454294862808651, 0.9029611996952854, 0.9029611996952854, 0.9029611996952854, 0.8917413888585661]\n",
      "['Plymouth City Airport', 'southern suburbs of Paris', 'within the departure areas', 'India', 'Dushanbe International Airport']\n",
      "[0.9999999999999999, 0.852360897734157, 0.8518187365307014, 0.8508247887568896, 0.8409244964740952]\n",
      "['Myanmar', 'most Protestants (and most Jews)', 'lower house of parliament', 'the Tzu Chi Foundation', 'started an anti-separatist campaign']\n",
      "[0.8828545495470352, 0.8348415264745357, 0.816676060212699, 0.8107728682697369, 0.7993383778232651]\n",
      "['Myanmar', 'the Tzu Chi Foundation', 'started an anti-separatist campaign', 'public gaze', 'most Protestants (and most Jews)']\n"
     ]
    },
    {
     "name": "stderr",
     "output_type": "stream",
     "text": [
      "/home/six/anaconda3/lib/python3.7/site-packages/ipykernel_launcher.py:23: DeprecationWarning: Call to deprecated `wv` (Attribute will be removed in 4.0.0, use self instead).\n"
     ]
    }
   ],
   "source": [
    "# 测试\n",
    "print(top5results_emb(\"Which airport was shut down?\"))    # 在问题库中存在，经过对比，返回的首结果正确\n",
    "print(top5results_emb(\"Which airport is closed?\"))\n",
    "print(top5results_emb(\"What government blocked aid after Cyclone Nargis?\"))    # 在问题库中存在，经过对比，返回的首结果正确\n",
    "print(top5results_emb(\"Which government stopped aid after Hurricane Nargis?\"))"
   ]
  },
  {
   "cell_type": "markdown",
   "metadata": {},
   "source": [
    "对于第二个问题答得不好表示有点失望，不过同时试了些其他问题，整体还不错。"
   ]
  }
 ],
 "metadata": {
  "kernelspec": {
   "display_name": "Python 3",
   "language": "python",
   "name": "python3"
  },
  "language_info": {
   "codemirror_mode": {
    "name": "ipython",
    "version": 3
   },
   "file_extension": ".py",
   "mimetype": "text/x-python",
   "name": "python",
   "nbconvert_exporter": "python",
   "pygments_lexer": "ipython3",
   "version": "3.7.1"
  },
  "toc": {
   "base_numbering": 1,
   "nav_menu": {},
   "number_sections": true,
   "sideBar": true,
   "skip_h1_title": false,
   "title_cell": "Table of Contents",
   "title_sidebar": "Contents",
   "toc_cell": false,
   "toc_position": {},
   "toc_section_display": true,
   "toc_window_display": false
  }
 },
 "nbformat": 4,
 "nbformat_minor": 2
}
